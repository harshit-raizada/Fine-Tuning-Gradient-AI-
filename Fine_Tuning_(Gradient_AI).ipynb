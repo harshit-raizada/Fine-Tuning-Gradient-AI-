{
  "nbformat": 4,
  "nbformat_minor": 0,
  "metadata": {
    "colab": {
      "provenance": [],
      "machine_shape": "hm",
      "gpuType": "L4"
    },
    "kernelspec": {
      "name": "python3",
      "display_name": "Python 3"
    },
    "language_info": {
      "name": "python"
    },
    "accelerator": "GPU"
  },
  "cells": [
    {
      "cell_type": "code",
      "execution_count": 1,
      "metadata": {
        "colab": {
          "base_uri": "https://localhost:8080/"
        },
        "id": "_dTrg2ztDQhD",
        "outputId": "c4de3a86-aab6-478c-a1aa-add92ed285d4"
      },
      "outputs": [
        {
          "output_type": "stream",
          "name": "stdout",
          "text": [
            "Collecting gradientai\n",
            "  Downloading gradientai-1.13.1-py3-none-any.whl (410 kB)\n",
            "\u001b[?25l     \u001b[90m━━━━━━━━━━━━━━━━━━━━━━━━━━━━━━━━━━━━━━━━\u001b[0m \u001b[32m0.0/410.7 kB\u001b[0m \u001b[31m?\u001b[0m eta \u001b[36m-:--:--\u001b[0m\r\u001b[2K     \u001b[91m━━━━━━━━━━━━━━━━━━━━━━━━━━━━━━━━━━━━━━━\u001b[0m\u001b[91m╸\u001b[0m \u001b[32m409.6/410.7 kB\u001b[0m \u001b[31m12.7 MB/s\u001b[0m eta \u001b[36m0:00:01\u001b[0m\r\u001b[2K     \u001b[90m━━━━━━━━━━━━━━━━━━━━━━━━━━━━━━━━━━━━━━━━\u001b[0m \u001b[32m410.7/410.7 kB\u001b[0m \u001b[31m10.1 MB/s\u001b[0m eta \u001b[36m0:00:00\u001b[0m\n",
            "\u001b[?25hCollecting aenum>=3.1.11 (from gradientai)\n",
            "  Downloading aenum-3.1.15-py3-none-any.whl (137 kB)\n",
            "\u001b[?25l     \u001b[90m━━━━━━━━━━━━━━━━━━━━━━━━━━━━━━━━━━━━━━━━\u001b[0m \u001b[32m0.0/137.6 kB\u001b[0m \u001b[31m?\u001b[0m eta \u001b[36m-:--:--\u001b[0m\r\u001b[2K     \u001b[90m━━━━━━━━━━━━━━━━━━━━━━━━━━━━━━━━━━━━━━━━\u001b[0m \u001b[32m137.6/137.6 kB\u001b[0m \u001b[31m17.0 MB/s\u001b[0m eta \u001b[36m0:00:00\u001b[0m\n",
            "\u001b[?25hRequirement already satisfied: pydantic<3,>=1.10.15 in /usr/local/lib/python3.10/dist-packages (from gradientai) (2.8.0)\n",
            "Requirement already satisfied: python-dateutil>=2.8.2 in /usr/local/lib/python3.10/dist-packages (from gradientai) (2.8.2)\n",
            "Requirement already satisfied: urllib3>=1.25.3 in /usr/local/lib/python3.10/dist-packages (from gradientai) (2.0.7)\n",
            "Requirement already satisfied: annotated-types>=0.4.0 in /usr/local/lib/python3.10/dist-packages (from pydantic<3,>=1.10.15->gradientai) (0.7.0)\n",
            "Requirement already satisfied: pydantic-core==2.20.0 in /usr/local/lib/python3.10/dist-packages (from pydantic<3,>=1.10.15->gradientai) (2.20.0)\n",
            "Requirement already satisfied: typing-extensions>=4.6.1 in /usr/local/lib/python3.10/dist-packages (from pydantic<3,>=1.10.15->gradientai) (4.12.2)\n",
            "Requirement already satisfied: six>=1.5 in /usr/local/lib/python3.10/dist-packages (from python-dateutil>=2.8.2->gradientai) (1.16.0)\n",
            "Installing collected packages: aenum, gradientai\n",
            "Successfully installed aenum-3.1.15 gradientai-1.13.1\n"
          ]
        }
      ],
      "source": [
        "!pip install gradientai --upgrade"
      ]
    },
    {
      "cell_type": "code",
      "source": [
        "import os\n",
        "\n",
        "os.environ['GRADIENT_WORKSPACE_ID'] = '62e17531-857e-4233-ab3d-1571639e6dfe_workspace'\n",
        "os.environ['GRADIENT_ACCESS_TOKEN'] = '0sHLqcvfDIQQTnUWS14JQtpkgKf8KYeK'"
      ],
      "metadata": {
        "id": "DTSw7XfNDvJA"
      },
      "execution_count": 2,
      "outputs": []
    },
    {
      "cell_type": "code",
      "source": [
        "from gradientai import Gradient\n",
        "\n",
        "def main():\n",
        "  gradient = Gradient()\n",
        "  base_model = gradient.get_base_model(base_model_slug= 'nous-hermes2')\n",
        "\n",
        "  new_model_adapter = base_model.create_model_adapter(name = 'test adapter')\n",
        "\n",
        "  print(f'Created model with adapter id {new_model_adapter.id}')\n",
        "\n",
        "  sample_query = '### Instruction: Who is Harshit Raizada? \\n\\n ### Response:'\n",
        "  print(f'Asking: {sample_query}')\n",
        "\n",
        "  # Before Fine Tuning\n",
        "\n",
        "  completion = new_model_adapter.complete(query = sample_query, max_generated_token_count = 100).generated_output\n",
        "  print(f'Generated (Before Fine Tuning): {completion}')\n",
        "\n",
        "  samples = [\n",
        "      {'inputs': '### Instruction: Who is Harshit Raizada? \\n\\n ### Response: Harshit Raizada is a 2024 graduate engineer from MDU Rohtak University who has passion in Deep Learning & GenAI.'},\n",
        "      {'inputs': '### Instruction: Who is this person named Harshit Raizada? \\n\\n ### Response: Harshit Raizada works at Dataisgood as a Technical Research Analyst involving Deep Learning & Machine Learning.'},\n",
        "      {'inputs': '### Instruction: What do you know about Harshit Raizada? \\n\\n ### Response: Harshit Raizada loves working and exploring in GenAI domain.'},\n",
        "      {'inputs': '### Instruction: Can you tell me about Harshit Raizada? \\n\\n ### Response: Harshit Raizada is an AI Engineer working in Dataisgood on DL Research.'}\n",
        "  ]\n",
        "\n",
        "  num_epochs = 3\n",
        "  count = 0\n",
        "\n",
        "  while count < num_epochs:\n",
        "    print(f'Fine Tuning the model with Iteration {count + 1}')\n",
        "    new_model_adapter.fine_tune(samples = samples)\n",
        "    count += 1\n",
        "\n",
        "  # After Fine Tuning\n",
        "\n",
        "  completion = new_model_adapter.complete(query = sample_query, max_generated_token_count = 100).generated_output\n",
        "  print(f'Generated (After Fine Tuning): {completion}')\n",
        "  new_model_adapter.delete()\n",
        "  gradient.close()\n",
        "\n",
        "if __name__ == '__main__':\n",
        "  main()"
      ],
      "metadata": {
        "colab": {
          "base_uri": "https://localhost:8080/"
        },
        "id": "ZD9NvhNmEGYb",
        "outputId": "5a6b095c-a34a-415d-cd97-001ea0d43b9f"
      },
      "execution_count": 3,
      "outputs": [
        {
          "output_type": "stream",
          "name": "stdout",
          "text": [
            "Created model with adapter id 9ae1677b-f124-478e-8481-cd2546ac8620_model_adapter\n",
            "Asking: ### Instruction: Who is Harshit Raizada? \n",
            "\n",
            " ### Response:\n",
            "Generated (Before Fine Tuning):  Harshit Raizada is an Indian entrepreneur and the founder of the online marketplace for local services, GigIndia. He is also the founder of the social networking platform, GigIndia Connect.\n",
            "Fine Tuning the model with Iteration 1\n",
            "Fine Tuning the model with Iteration 2\n",
            "Fine Tuning the model with Iteration 3\n",
            "Generated (After Fine Tuning):  Harshit Raizada works at Dataisgood as a Research Analyst. He has expertise in Deep Learning, GenAI, Data Analytics, Data Visualization, Machine Learning, and Natural Language Processing. He has done his graduation in Electronics and Communication Engineering from MDU Rohtak University.\n"
          ]
        }
      ]
    }
  ]
}